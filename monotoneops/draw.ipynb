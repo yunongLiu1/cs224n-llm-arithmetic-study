{
 "cells": [
  {
   "cell_type": "code",
   "execution_count": 4,
   "metadata": {},
   "outputs": [],
   "source": [
    "from openai import OpenAI \n",
    "\n",
    "openai = OpenAI(\n",
    "    api_key=\"PaB1J7nlO6hMItGMmfGR0ZDsnWfG7U9G\",\n",
    "    base_url=\"https://api.deepinfra.com/v1/openai\", \n",
    ") "
   ]
  },
  {
   "cell_type": "code",
   "execution_count": 7,
   "metadata": {},
   "outputs": [
    {
     "name": "stdout",
     "output_type": "stream",
     "text": [
      "To solve this problem, we need to follow the given equations step by step.\n",
      "\n",
      "Arguments:\n",
      "- The number of Tiger equals 2 times the number of Lion.\n",
      "- The number of Raccoon equals 2 times the product of the number of Bear and the number of Tiger.\n",
      "- The number of Elephant equals the product of the number of Horse, the number of Fox, and the number of Wolf.\n",
      "- The number of Lion equals the number of Elephant.\n",
      "- The number of Wolf equals 1 times the number of Fox.\n",
      "- The number of Horse equals 1 times the product of the number of Wolf and the number of Fox.\n",
      "- The number of Bear equals the product of the number of Deer, the number of Wolf, the number of Horse, and the number of Lion.\n",
      "- The number of Fox equals 2.\n",
      "- The number of Deer equals the product of the number of Tiger, the number of Horse, and the number of Wolf.\n",
      "\n",
      "Step 1: Find the number of Lion.\n",
      "Since the number of Lion equals the number of Elephant, and the number of Elephant equals the product of the number of Horse, the number of Fox, and the number of Wolf, we can start by finding the number of Horse, the number of Fox, and the number of Wolf.\n",
      "\n",
      "Step 2: Find the number of Wolf.\n",
      "The number of Wolf equals 1 times the number of Fox. Since the number of Fox equals 2, the number of Wolf equals 2.\n",
      "\n",
      "Step 3: Find the number of Horse.\n",
      "The number of Horse equals 1 times the product of the number of Wolf and the number of Fox. Since the number of Wolf equals 2 and the number of Fox equals 2, the number of Horse equals 2 * 2 = 4.\n",
      "\n",
      "Step 4: Find the number of Elephant.\n",
      "The number of Elephant equals the product of the number of Horse, the number of Fox, and the number of Wolf. Since the number of Horse equals 4, the number of Fox equals 2, and the number of Wolf equals 2, the number of Elephant equals 4 * 2 * 2 = 16.\n",
      "\n",
      "Step 5: Find the number of Lion.\n",
      "The number of Lion equals the number of Elephant. Since the number of Elephant equals 16, the number of Lion equals 16.\n",
      "\n",
      "Step 6: Find the number of Tiger.\n",
      "The number of Tiger equals 2 times the number of Lion. Since the number of Lion equals 16, the number of Tiger equals 2 * 16 = 32.\n",
      "\n",
      "Step 7: Find the number of Deer.\n",
      "The number of Deer equals the product of the number of Tiger, the number of Horse, and the number of Wolf. Since the number of Tiger equals 32, the number of Horse equals 4, and the number of Wolf equals 2, the number of Deer equals 32 * 4 * 2 = 256.\n",
      "\n",
      "Step 8: Find the number of Bear.\n",
      "The number of Bear equals the product of the number of Deer, the number of Wolf, the number of Horse, and the number of Lion. Since the number of Deer equals 256, the number of Wolf equals 2, the number of Horse equals 4, and the number of Lion equals 16, the number of Bear equals 256 * 2 * 4 * 16 = 32768.\n",
      "\n",
      "Step 9: Find the number of Raccoon.\n",
      "The number of Raccoon equals 2 times the product of the number of Bear and the number of Tiger. Since the number of Bear equals 32768 and the number of Tiger equals 32, the number of Raccoon equals 2 * 32768 * 32 = 2097152.\n",
      "\n",
      "Answer: 2097152\n"
     ]
    }
   ],
   "source": [
    "message = \"Explain your calculation in the detailed step-by-step manner. Please first give out the arguments then the answer. \\\n",
    "Final answer needs to be presented in the format 'Answer: xxx', where xxx is the number you calculated.\" \n",
    "\n",
    "message += \"Problem: The number of Tiger equals 2 times the number of Lion. The number of Raccoon equals 2 times the product of the number of Bear and the number of Tiger. The number of Elephant equals the product of the number of Horse, the number of Fox, and the number of Wolf. The number of Lion equals the number of Elephant. The number of Wolf equals 1 times the number of Fox. The number of Horse equals 1 times the product of the number of Wolf and the number of Fox. The number of Bear equals the product of the number of Deer, the number of Wolf, the number of Horse, and the number of Lion. The number of Fox equals 2. The number of Deer equals the product of the number of Tiger, the number of Horse, and the number of Wolf. \\\n",
    "Question: What is the number of Raccoon?\" \n",
    "\n",
    "messages = [\n",
    "    # {\"role\": \"system\", \"content\": \"You are a pirate chatbot who always responds in pirate speak!\"}, \n",
    "    {\"role\": \"system\", \"content\": \"You are a helpful assistant\"}, \n",
    "    {\"role\": \"user\", \"content\": message}, \n",
    "] \n",
    "\n",
    "outputs = openai.chat.completions.create(\n",
    "    model = \"meta-llama/Meta-Llama-3.1-8B-Instruct\", \n",
    "    messages = messages, \n",
    "    temperature = 0.0, \n",
    "    max_tokens = 4096, \n",
    ") \n",
    "generatedtext = outputs.choices[0].message.content \n",
    "print(generatedtext) "
   ]
  },
  {
   "cell_type": "code",
   "execution_count": null,
   "metadata": {},
   "outputs": [],
   "source": []
  }
 ],
 "metadata": {
  "kernelspec": {
   "display_name": "normaltransfor",
   "language": "python",
   "name": "python3"
  },
  "language_info": {
   "codemirror_mode": {
    "name": "ipython",
    "version": 3
   },
   "file_extension": ".py",
   "mimetype": "text/x-python",
   "name": "python",
   "nbconvert_exporter": "python",
   "pygments_lexer": "ipython3",
   "version": "3.11.5"
  }
 },
 "nbformat": 4,
 "nbformat_minor": 2
}
